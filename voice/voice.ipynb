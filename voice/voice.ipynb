{
 "cells": [
  {
   "cell_type": "code",
   "execution_count": 155,
   "metadata": {},
   "outputs": [],
   "source": [
    "import os\n",
    "from pydub import AudioSegment\n",
    "from moviepy.editor import *\n",
    "import wave\n",
    "import math\n",
    "import pyaudio\n",
    "import numpy\n",
    "import pandas as pd"
   ]
  },
  {
   "cell_type": "code",
   "execution_count": 156,
   "metadata": {},
   "outputs": [
    {
     "name": "stdout",
     "output_type": "stream",
     "text": [
      "MoviePy - Writing audio in v1.mp3\n"
     ]
    },
    {
     "name": "stderr",
     "output_type": "stream",
     "text": [
      "                                                                      \r"
     ]
    },
    {
     "name": "stdout",
     "output_type": "stream",
     "text": [
      "MoviePy - Done.\n"
     ]
    },
    {
     "data": {
      "text/plain": [
       "<_io.BufferedRandom name='test1.wav'>"
      ]
     },
     "execution_count": 156,
     "metadata": {},
     "output_type": "execute_result"
    }
   ],
   "source": [
    "video_path='v1.mp4'\n",
    "voice_path='v1.mp3'\n",
    "video = VideoFileClip(os.path.join(video_path))\n",
    "video.audio.write_audiofile(os.path.join(voice_path))\n",
    "sound = AudioSegment.from_mp3(voice_path)\n",
    "sound.export(\"test1.wav\", format=\"wav\")"
   ]
  },
  {
   "cell_type": "code",
   "execution_count": 157,
   "metadata": {},
   "outputs": [],
   "source": [
    "class VoiceDetect():\n",
    "    def __init__(self,wav_path,save_path):\n",
    "        self.wav_path = wav_path\n",
    "        self.save_path = save_path\n",
    "\n",
    "    #求数组平均值\n",
    "    def mean(self,a):\n",
    "        return numpy.longlong(sum(a)) / len(a)\n",
    "    \n",
    "    #把mp3格式转化为.wav模式\n",
    "    def trans_mp3_2_wav(self,filename):\n",
    "        name = os.path.splitext(filename)[0]\n",
    "        audio=AudioSegment.from_mp3(filename)\n",
    "        audio.export(name + \".wav\",format=\"wav\")\n",
    "        \n",
    "    def abslist(self,a):\n",
    "        return list(map(abs,a))\n",
    "\n",
    "    def recvoice(self,filename):\n",
    "        #取文件名\n",
    "        #打开WAV文档，文件路径根据需要做修改\n",
    "        wf = wave.open(os.path.join(self.wav_path,filename+\".wav\"), \"rb\")\n",
    "        #创建PyAudio对象\n",
    "        p = pyaudio.PyAudio()\n",
    "        stream = p.open(format=p.get_format_from_width(wf.getsampwidth()),channels=wf.getnchannels(),rate=wf.getframerate(),output=True)\n",
    "        nframes = wf.getnframes()\n",
    "        framerate = wf.getframerate()\n",
    "        #读取完整的帧数据到str_data中，这是一个string类型的数据\n",
    "        str_data = wf.readframes(nframes)\n",
    "        wf.close()\n",
    "        #将波形数据转换为数组\n",
    "        wave_data = numpy.fromstring(str_data, dtype=numpy.short)\n",
    "        #wave_data=list(map(abs,wave_data))\n",
    "        M = []\n",
    "        #求60秒取样的平均值，若为双声道，再多乘2 \n",
    "        gap = 1\n",
    "        n = framerate*2*gap\n",
    "        for i in range(0, len(wave_data), n):\n",
    "            M.append(wave_data[i:i+n]/10) #传化成分贝\n",
    "        M=map(self.abslist,M)\n",
    "        sound = list(map(self.mean,M))\n",
    "        #时间数组，与sound配对形成系列点坐标\n",
    "        time = numpy.arange(0,nframes/(framerate*gap))\n",
    "        time = time.astype(int) * gap\n",
    "        #生成csv文件\n",
    "        dataframe = pd.DataFrame({'Time':time,'Sound':sound})\n",
    "        dataframe.to_csv(os.path.join(self.wav_path,filename+\".csv\"),index=False,sep=',')\n",
    "        return dataframe\n",
    "    \n",
    "    def analyze(self, filename, df):\n",
    "        percnet = 0.75\n",
    "        threshold = df['Sound'].quantile(percnet)\n",
    "        condi=df['Sound']>threshold\n",
    "\n",
    "        # df[condi]['Time'].to_csv(os.path.join(self.save_path,filename+'.csv'))\n",
    "\n",
    "        with open(os.path.join(self.save_path,filename+'.txt'),'w') as f:\n",
    "            for row in df[condi]['Time']:\n",
    "                f.writelines(str(row)+'\\n')\n",
    "\n",
    "    # 获取文件目录下的mp3 wav格式音频\n",
    "    def file_name(self):\n",
    "        L=[]\n",
    "        print('start')\n",
    "        for root, dirs,files in os.walk(self.wav_path):\n",
    "            # print(f'file:{files}')\n",
    "            # print(f'root:{root}')\n",
    "            # print(f'dirs{dirs}')\n",
    "            for file in files:\n",
    "                #.mp3格式转化为.wav\n",
    "                # print(f'files:{file}')\n",
    "                # if os.path.splitext(file)[1] == '.mp3': \n",
    "                #     trans_mp3_2_wav(os.path.join(file_dir, file))\n",
    "                #     print(file)\n",
    "                #     L.append(os.path.join(file_dir, file[:-3]+'wav'))\n",
    "                if os.path.splitext(file)[1] == '.wav':\n",
    "                    L.append(file[:-4])\n",
    "        for i in range(len(L)):\n",
    "            print(L[i])\n",
    "            df = self.recvoice(L[i])\n",
    "            self.analyze(L[i],df)\n",
    "        print('finish')"
   ]
  },
  {
   "cell_type": "code",
   "execution_count": 158,
   "metadata": {},
   "outputs": [
    {
     "name": "stdout",
     "output_type": "stream",
     "text": [
      "start\n",
      "test1\n",
      "v1\n",
      "finish\n"
     ]
    }
   ],
   "source": [
    "wav_path='G:\\\\Github\\\\spark_photo\\\\voice'\n",
    "save_path = 'G:\\\\Github\\\\spark_photo\\\\voice\\\\dataset'\n",
    "\n",
    "vd = VoiceDetect(wav_path,save_path)\n",
    "vd.file_name()"
   ]
  }
 ],
 "metadata": {
  "kernelspec": {
   "display_name": "Python 3.9.12 ('finbert')",
   "language": "python",
   "name": "python3"
  },
  "language_info": {
   "codemirror_mode": {
    "name": "ipython",
    "version": 3
   },
   "file_extension": ".py",
   "mimetype": "text/x-python",
   "name": "python",
   "nbconvert_exporter": "python",
   "pygments_lexer": "ipython3",
   "version": "3.9.12"
  },
  "orig_nbformat": 4,
  "vscode": {
   "interpreter": {
    "hash": "dc2d75d2bbb1ab8d2c49183bedcbafe25b599ed2fa73b8834cc66076892a6e29"
   }
  }
 },
 "nbformat": 4,
 "nbformat_minor": 2
}
